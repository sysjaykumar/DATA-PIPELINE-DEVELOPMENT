{
 "cells": [
  {
   "cell_type": "markdown",
   "id": "c15a77f3",
   "metadata": {},
   "source": [
    "ETL Pipeline on Uploaded data.csv"
   ]
  },
  {
   "cell_type": "code",
   "execution_count": 2,
   "id": "63baf481-cc9a-47fb-9412-61624395269e",
   "metadata": {},
   "outputs": [],
   "source": [
    "# IMPORT LIBRARIES\n",
    "import pandas as pd\n",
    "import numpy as np\n",
    "from sklearn.preprocessing import StandardScaler, OneHotEncoder\n",
    "from sklearn.compose import ColumnTransformer\n",
    "from sklearn.pipeline import Pipeline\n",
    "from sklearn.impute import SimpleImputer\n",
    "from sklearn.model_selection import train_test_split"
   ]
  },
  {
   "cell_type": "code",
   "execution_count": 5,
   "id": "2aee8ad7",
   "metadata": {},
   "outputs": [
    {
     "name": "stdout",
     "output_type": "stream",
     "text": [
      "📥 Loading dataset...\n",
      "Initial Shape: (891, 5)\n"
     ]
    },
    {
     "data": {
      "text/html": [
       "<div>\n",
       "<style scoped>\n",
       "    .dataframe tbody tr th:only-of-type {\n",
       "        vertical-align: middle;\n",
       "    }\n",
       "\n",
       "    .dataframe tbody tr th {\n",
       "        vertical-align: top;\n",
       "    }\n",
       "\n",
       "    .dataframe thead th {\n",
       "        text-align: right;\n",
       "    }\n",
       "</style>\n",
       "<table border=\"1\" class=\"dataframe\">\n",
       "  <thead>\n",
       "    <tr style=\"text-align: right;\">\n",
       "      <th></th>\n",
       "      <th>age</th>\n",
       "      <th>salary</th>\n",
       "      <th>department</th>\n",
       "      <th>class</th>\n",
       "      <th>target</th>\n",
       "    </tr>\n",
       "  </thead>\n",
       "  <tbody>\n",
       "    <tr>\n",
       "      <th>0</th>\n",
       "      <td>22.0</td>\n",
       "      <td>7.2500</td>\n",
       "      <td>male</td>\n",
       "      <td>Third</td>\n",
       "      <td>0</td>\n",
       "    </tr>\n",
       "    <tr>\n",
       "      <th>1</th>\n",
       "      <td>38.0</td>\n",
       "      <td>71.2833</td>\n",
       "      <td>female</td>\n",
       "      <td>First</td>\n",
       "      <td>1</td>\n",
       "    </tr>\n",
       "    <tr>\n",
       "      <th>2</th>\n",
       "      <td>26.0</td>\n",
       "      <td>7.9250</td>\n",
       "      <td>female</td>\n",
       "      <td>Third</td>\n",
       "      <td>1</td>\n",
       "    </tr>\n",
       "    <tr>\n",
       "      <th>3</th>\n",
       "      <td>35.0</td>\n",
       "      <td>53.1000</td>\n",
       "      <td>female</td>\n",
       "      <td>First</td>\n",
       "      <td>1</td>\n",
       "    </tr>\n",
       "    <tr>\n",
       "      <th>4</th>\n",
       "      <td>35.0</td>\n",
       "      <td>8.0500</td>\n",
       "      <td>male</td>\n",
       "      <td>Third</td>\n",
       "      <td>0</td>\n",
       "    </tr>\n",
       "  </tbody>\n",
       "</table>\n",
       "</div>"
      ],
      "text/plain": [
       "    age   salary department  class  target\n",
       "0  22.0   7.2500       male  Third       0\n",
       "1  38.0  71.2833     female  First       1\n",
       "2  26.0   7.9250     female  Third       1\n",
       "3  35.0  53.1000     female  First       1\n",
       "4  35.0   8.0500       male  Third       0"
      ]
     },
     "execution_count": 5,
     "metadata": {},
     "output_type": "execute_result"
    }
   ],
   "source": [
    "# Read &  Extract Dataset\n",
    "print('📥 Loading dataset...')\n",
    "data = pd.read_csv('data.csv')\n",
    "print(f\"Initial Shape: {data.shape}\")\n",
    "data.head()"
   ]
  },
  {
   "cell_type": "markdown",
   "id": "34523f84",
   "metadata": {},
   "source": [
    "BASIC DATA CHECKS"
   ]
  },
  {
   "cell_type": "code",
   "execution_count": null,
   "id": "b83841b1",
   "metadata": {},
   "outputs": [
    {
     "name": "stdout",
     "output_type": "stream",
     "text": [
      "Missing value : \n",
      " age           177\n",
      "salary          0\n",
      "department      0\n",
      "class           0\n",
      "target          0\n",
      "dtype: int64\n",
      "\n",
      "Data Types:\n",
      " age           float64\n",
      "salary        float64\n",
      "department     object\n",
      "class          object\n",
      "target          int64\n",
      "dtype: object\n"
     ]
    },
    {
     "data": {
      "text/html": [
       "<div>\n",
       "<style scoped>\n",
       "    .dataframe tbody tr th:only-of-type {\n",
       "        vertical-align: middle;\n",
       "    }\n",
       "\n",
       "    .dataframe tbody tr th {\n",
       "        vertical-align: top;\n",
       "    }\n",
       "\n",
       "    .dataframe thead th {\n",
       "        text-align: right;\n",
       "    }\n",
       "</style>\n",
       "<table border=\"1\" class=\"dataframe\">\n",
       "  <thead>\n",
       "    <tr style=\"text-align: right;\">\n",
       "      <th></th>\n",
       "      <th>age</th>\n",
       "      <th>salary</th>\n",
       "      <th>department</th>\n",
       "      <th>class</th>\n",
       "      <th>target</th>\n",
       "    </tr>\n",
       "  </thead>\n",
       "  <tbody>\n",
       "    <tr>\n",
       "      <th>count</th>\n",
       "      <td>714.000000</td>\n",
       "      <td>891.000000</td>\n",
       "      <td>891</td>\n",
       "      <td>891</td>\n",
       "      <td>891.000000</td>\n",
       "    </tr>\n",
       "    <tr>\n",
       "      <th>unique</th>\n",
       "      <td>NaN</td>\n",
       "      <td>NaN</td>\n",
       "      <td>2</td>\n",
       "      <td>3</td>\n",
       "      <td>NaN</td>\n",
       "    </tr>\n",
       "    <tr>\n",
       "      <th>top</th>\n",
       "      <td>NaN</td>\n",
       "      <td>NaN</td>\n",
       "      <td>male</td>\n",
       "      <td>Third</td>\n",
       "      <td>NaN</td>\n",
       "    </tr>\n",
       "    <tr>\n",
       "      <th>freq</th>\n",
       "      <td>NaN</td>\n",
       "      <td>NaN</td>\n",
       "      <td>577</td>\n",
       "      <td>491</td>\n",
       "      <td>NaN</td>\n",
       "    </tr>\n",
       "    <tr>\n",
       "      <th>mean</th>\n",
       "      <td>29.699118</td>\n",
       "      <td>32.204208</td>\n",
       "      <td>NaN</td>\n",
       "      <td>NaN</td>\n",
       "      <td>0.383838</td>\n",
       "    </tr>\n",
       "    <tr>\n",
       "      <th>std</th>\n",
       "      <td>14.526497</td>\n",
       "      <td>49.693429</td>\n",
       "      <td>NaN</td>\n",
       "      <td>NaN</td>\n",
       "      <td>0.486592</td>\n",
       "    </tr>\n",
       "    <tr>\n",
       "      <th>min</th>\n",
       "      <td>0.420000</td>\n",
       "      <td>0.000000</td>\n",
       "      <td>NaN</td>\n",
       "      <td>NaN</td>\n",
       "      <td>0.000000</td>\n",
       "    </tr>\n",
       "    <tr>\n",
       "      <th>25%</th>\n",
       "      <td>20.125000</td>\n",
       "      <td>7.910400</td>\n",
       "      <td>NaN</td>\n",
       "      <td>NaN</td>\n",
       "      <td>0.000000</td>\n",
       "    </tr>\n",
       "    <tr>\n",
       "      <th>50%</th>\n",
       "      <td>28.000000</td>\n",
       "      <td>14.454200</td>\n",
       "      <td>NaN</td>\n",
       "      <td>NaN</td>\n",
       "      <td>0.000000</td>\n",
       "    </tr>\n",
       "    <tr>\n",
       "      <th>75%</th>\n",
       "      <td>38.000000</td>\n",
       "      <td>31.000000</td>\n",
       "      <td>NaN</td>\n",
       "      <td>NaN</td>\n",
       "      <td>1.000000</td>\n",
       "    </tr>\n",
       "    <tr>\n",
       "      <th>max</th>\n",
       "      <td>80.000000</td>\n",
       "      <td>512.329200</td>\n",
       "      <td>NaN</td>\n",
       "      <td>NaN</td>\n",
       "      <td>1.000000</td>\n",
       "    </tr>\n",
       "  </tbody>\n",
       "</table>\n",
       "</div>"
      ],
      "text/plain": [
       "               age      salary department  class      target\n",
       "count   714.000000  891.000000        891    891  891.000000\n",
       "unique         NaN         NaN          2      3         NaN\n",
       "top            NaN         NaN       male  Third         NaN\n",
       "freq           NaN         NaN        577    491         NaN\n",
       "mean     29.699118   32.204208        NaN    NaN    0.383838\n",
       "std      14.526497   49.693429        NaN    NaN    0.486592\n",
       "min       0.420000    0.000000        NaN    NaN    0.000000\n",
       "25%      20.125000    7.910400        NaN    NaN    0.000000\n",
       "50%      28.000000   14.454200        NaN    NaN    0.000000\n",
       "75%      38.000000   31.000000        NaN    NaN    1.000000\n",
       "max      80.000000  512.329200        NaN    NaN    1.000000"
      ]
     },
     "execution_count": 7,
     "metadata": {},
     "output_type": "execute_result"
    }
   ],
   "source": [
    "\n",
    "\n",
    "# Check data types\n",
    "print(\"\\nData Types:\\n\", data.dtypes)\n",
    "\n",
    "# Preview statistical summary\n",
    "data.describe(include=\"all\")"
   ]
  },
  {
   "cell_type": "code",
   "execution_count": 10,
   "id": "eab9132c",
   "metadata": {},
   "outputs": [
    {
     "name": "stdout",
     "output_type": "stream",
     "text": [
      "Missing value : \n",
      " age           0\n",
      "salary        0\n",
      "department    0\n",
      "class         0\n",
      "target        0\n",
      "dtype: int64\n"
     ]
    }
   ],
   "source": [
    "# handle Missing Value in age\n",
    "data['age'] = data['age'].fillna(data['age'].mean())\n",
    "\n",
    "# again check after fill missing values\n",
    "print(\"Missing value : \\n\", data.isnull().sum())\n"
   ]
  },
  {
   "cell_type": "code",
   "execution_count": 11,
   "id": "7825f6d0",
   "metadata": {},
   "outputs": [
    {
     "name": "stdout",
     "output_type": "stream",
     "text": [
      "Shape after dropping duplicates: (768, 5)\n"
     ]
    }
   ],
   "source": [
    "#DROP DUPLICATES\n",
    "data.drop_duplicates(inplace=True)\n",
    "print(f\"Shape after dropping duplicates: {data.shape}\")"
   ]
  },
  {
   "cell_type": "code",
   "execution_count": null,
   "id": "fa7fdf90",
   "metadata": {},
   "outputs": [
    {
     "name": "stdout",
     "output_type": "stream",
     "text": [
      "Numeric Features: ['age', 'salary']\n",
      "Categorical Features: ['department', 'class']\n"
     ]
    }
   ],
   "source": [
    "#IDENTIFY FEATURE TYPES\n",
    "numeric_features = ['age', 'salary']  \n",
    "categorical_features = ['department', 'class']\n",
    "\n",
    "print(\"Numeric Features:\", numeric_features)\n",
    "print(\"Categorical Features:\", categorical_features)"
   ]
  },
  {
   "cell_type": "markdown",
   "id": "30a5afe7",
   "metadata": {},
   "source": [
    "PREPROCESSING PIPELINES"
   ]
  },
  {
   "cell_type": "code",
   "execution_count": 40,
   "id": "c94c989b",
   "metadata": {},
   "outputs": [],
   "source": [
    "# Numeric pipeline\n",
    "numeric_pipeline = Pipeline(steps=[\n",
    "    (\"imputer\", SimpleImputer(strategy=\"mean\")),\n",
    "    (\"scaler\", StandardScaler())\n",
    "])\n",
    "\n",
    "# Categorical pipeline\n",
    "categorical_pipeline = Pipeline(steps=[\n",
    "    (\"imputer\", SimpleImputer(strategy=\"most_frequent\")),\n",
    "    (\"encoder\", OneHotEncoder(handle_unknown=\"ignore\"))\n",
    "])\n",
    "\n",
    "# Combine into one preprocessor\n",
    "preprocessor = ColumnTransformer(\n",
    "    transformers=[\n",
    "        (\"num\", numeric_pipeline, numeric_features),\n",
    "        (\"cat\", categorical_pipeline, categorical_features)\n",
    "    ]\n",
    ")"
   ]
  },
  {
   "cell_type": "markdown",
   "id": "de52f46a",
   "metadata": {},
   "source": [
    "SPLIT FEATURES & TARGET"
   ]
  },
  {
   "cell_type": "code",
   "execution_count": 41,
   "id": "ade06ea4",
   "metadata": {},
   "outputs": [],
   "source": [
    "TARGET_COLUMN = \"target\"  # Change this if your dataset uses a different name\n",
    "\n",
    "if TARGET_COLUMN in data.columns:\n",
    "    X = data.drop(columns=[TARGET_COLUMN])\n",
    "    y = data[TARGET_COLUMN]\n",
    "else:\n",
    "    X = data.copy()\n",
    "    y = None\n",
    "    print(\"⚠ No target column found. Processing entire dataset as features.\")"
   ]
  },
  {
   "cell_type": "code",
   "execution_count": 42,
   "id": "b86ec0e1",
   "metadata": {},
   "outputs": [],
   "source": [
    "# Train-test split only if target is available\n",
    "if y is not None:\n",
    "    X_train, X_test, y_train, y_test = train_test_split(\n",
    "        X, y, test_size=0.2, random_state=42\n",
    "    )\n",
    "else:\n",
    "    X_train, X_test = X, None"
   ]
  },
  {
   "cell_type": "code",
   "execution_count": 43,
   "id": "d42767ec",
   "metadata": {},
   "outputs": [
    {
     "name": "stdout",
     "output_type": "stream",
     "text": [
      "           age   salary department   class\n",
      "62   45.000000  83.4750       male   First\n",
      "711  29.699118  26.5500       male   First\n",
      "382  32.000000   7.9250       male   Third\n",
      "321  27.000000   7.8958       male   Third\n",
      "250  29.699118   7.2500       male   Third\n",
      "..         ...      ...        ...     ...\n",
      "73   26.000000  14.4542       male   Third\n",
      "113  20.000000   9.8250     female   Third\n",
      "292  36.000000  12.8750       male  Second\n",
      "491  21.000000   7.2500       male   Third\n",
      "109  29.699118  24.1500     female   Third\n",
      "\n",
      "[614 rows x 4 columns]\n"
     ]
    }
   ],
   "source": [
    "print(X_train)"
   ]
  },
  {
   "cell_type": "markdown",
   "id": "d8b6a862",
   "metadata": {},
   "source": [
    "APPLY TRANSFORMATIONS"
   ]
  },
  {
   "cell_type": "code",
   "execution_count": 44,
   "id": "16edf691",
   "metadata": {},
   "outputs": [],
   "source": [
    "X_train_processed = preprocessor.fit_transform(X_train)\n",
    "\n",
    "if X_test is not None:\n",
    "    X_test_processed = preprocessor.transform(X_test)"
   ]
  }
 ],
 "metadata": {
  "kernelspec": {
   "display_name": "Python 3",
   "language": "python",
   "name": "python3"
  },
  "language_info": {
   "codemirror_mode": {
    "name": "ipython",
    "version": 3
   },
   "file_extension": ".py",
   "mimetype": "text/x-python",
   "name": "python",
   "nbconvert_exporter": "python",
   "pygments_lexer": "ipython3",
   "version": "3.13.5"
  }
 },
 "nbformat": 4,
 "nbformat_minor": 5
}
